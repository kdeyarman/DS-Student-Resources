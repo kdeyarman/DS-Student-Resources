{
 "cells": [
  {
   "cell_type": "code",
   "execution_count": 5,
   "id": "4d390603-5c39-4bc5-841e-6831b45ce268",
   "metadata": {},
   "outputs": [
    {
     "name": "stdout",
     "output_type": "stream",
     "text": [
      "Where is Kurt today?\n",
      "Where is David today?\n",
      "Where is Katherine today?\n"
     ]
    }
   ],
   "source": [
    "#PART 1\n",
    "list_of_names = [\"Kurt\", \"David\", \"Katherine\"]\n",
    "\n",
    "for name in list_of_names:\n",
    "    print(\"Where is \" + name + \" today?\")"
   ]
  },
  {
   "cell_type": "code",
   "execution_count": 9,
   "id": "09f36eb0-4f8d-4d8b-b666-6e021a9b8d35",
   "metadata": {},
   "outputs": [
    {
     "name": "stdout",
     "output_type": "stream",
     "text": [
      "Suburu\n",
      "Magnolia\n",
      "Daffodil\n",
      "Wart Hog\n"
     ]
    }
   ],
   "source": [
    "#PART 2\n",
    "my_favorite_cars = [\"Honda\", \"Suburu\", \"Range Rover\"]\n",
    "my_favorite_flowers = [\"Sunflower\", \"Magnolia\", \"Poppy\", \"Daffodil\"]\n",
    "my_favorite_animals = [\"Giraffe\", \"Wart Hog\", \"Sting Ray\", \"Shark\", \"Dog\"]\n",
    "\n",
    "my_favorite_things = my_favorite_cars + my_favorite_flowers + my_favorite_animals\n",
    "\n",
    "for fav in my_favorite_things:\n",
    "    if len(fav) % 2 == 0:\n",
    "        print(fav)\n"
   ]
  },
  {
   "cell_type": "code",
   "execution_count": 13,
   "id": "92c57c9e-841b-4c61-b00c-b50ebad6f231",
   "metadata": {},
   "outputs": [
    {
     "name": "stdout",
     "output_type": "stream",
     "text": [
      "1\n",
      "2\n",
      "Zip\n",
      "4\n",
      "Zap\n",
      "Zip\n",
      "7\n",
      "8\n",
      "Zip\n",
      "Zap\n",
      "11\n",
      "Zip\n",
      "13\n",
      "14\n",
      "ZipZap\n",
      "16\n",
      "17\n",
      "Zip\n",
      "19\n",
      "Zap\n"
     ]
    }
   ],
   "source": [
    "#Part 3\n",
    "number_range = list(range(1,21))\n",
    "\n",
    "for number in number_range:\n",
    "    if number % 3 == 0 and number % 5 == 0:\n",
    "        print(\"ZipZap\")\n",
    "    elif number % 3 == 0:\n",
    "        print(\"Zip\")\n",
    "    elif number % 5 == 0:\n",
    "        print(\"Zap\")\n",
    "    else:\n",
    "        print(number)\n",
    "                "
   ]
  },
  {
   "cell_type": "code",
   "execution_count": null,
   "id": "9bba0be4-116f-47eb-ac64-16639260d15a",
   "metadata": {},
   "outputs": [],
   "source": []
  }
 ],
 "metadata": {
  "kernelspec": {
   "display_name": "Python 3 (ipykernel)",
   "language": "python",
   "name": "python3"
  },
  "language_info": {
   "codemirror_mode": {
    "name": "ipython",
    "version": 3
   },
   "file_extension": ".py",
   "mimetype": "text/x-python",
   "name": "python",
   "nbconvert_exporter": "python",
   "pygments_lexer": "ipython3",
   "version": "3.10.2"
  }
 },
 "nbformat": 4,
 "nbformat_minor": 5
}
