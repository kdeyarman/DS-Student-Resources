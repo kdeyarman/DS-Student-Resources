{
 "cells": [
  {
   "cell_type": "code",
   "execution_count": 25,
   "id": "e0086b1d-0887-4a16-919b-5cf492c11ef0",
   "metadata": {},
   "outputs": [
    {
     "name": "stdout",
     "output_type": "stream",
     "text": [
      "{'Type of Pet': 'Rabbit', 'Color': 'White', 'Nickname': 'Fluff', \"Owner's Name\": 'Steve'}\n",
      "{'Type of Pet': 'Dog', 'Color': 'Black', 'Nickname': 'Buddy', \"Owner's Name\": 'Casey'}\n"
     ]
    }
   ],
   "source": [
    "#PART 1\n",
    "Fluffy = {\n",
    "    'Type of Pet': 'Rabbit',\n",
    "    'Color': 'White',\n",
    "    'Nickname': 'Fluff',\n",
    "    \"Owner's Name\": 'Steve'\n",
    "}\n",
    "\n",
    "Rover = {\n",
    "    'Type of Pet': 'Dog',\n",
    "    'Color': 'Black',\n",
    "    'Nickname': 'Buddy',\n",
    "    \"Owner's Name\": 'Casey'\n",
    "}\n",
    "\"I am on one line\\nbut I'm on the next line\"\n",
    "\n",
    "for pet in pets:\n",
    "    print(pet)"
   ]
  },
  {
   "cell_type": "code",
   "execution_count": 32,
   "id": "d7761b65-2451-4872-a088-d0d9438d7344",
   "metadata": {},
   "outputs": [
    {
     "name": "stdout",
     "output_type": "stream",
     "text": [
      "None\n"
     ]
    }
   ],
   "source": [
    "people = {\n",
    "    'person1': {\n",
    "        'name': 'Sally Sue',\n",
    "        'city': 'Phoenix'\n",
    "    },\n",
    "    'person2': {\n",
    "        'name': 'Billy Bob',\n",
    "        'city': 'Scottsdale'\n",
    "    },\n",
    "    'person3': {\n",
    "        'name': 'Rover',\n",
    "        'city': 'Zappa'\n",
    "    }}\n",
    "\n",
    "    \n",
    "\n",
    "        \n",
    "\n",
    "print(people.get(\"person1[name]\"))\n"
   ]
  },
  {
   "cell_type": "code",
   "execution_count": 13,
   "id": "7781a7ce-97b2-4aef-b87f-a8a024b54355",
   "metadata": {},
   "outputs": [
    {
     "name": "stdout",
     "output_type": "stream",
     "text": [
      "foo -> 1\n",
      "bar -> 2\n",
      "baz -> 3\n",
      "quux -> 4\n"
     ]
    }
   ],
   "source": [
    "d = {'dict1': {'foo': 1, 'bar': 2}, 'dict2': {'baz': 3, 'quux': 4}}\n",
    "\n",
    "for i in d:\n",
    "    for j, k in d[i].items():\n",
    "        print(j,\"->\", k)\n",
    "    "
   ]
  },
  {
   "cell_type": "code",
   "execution_count": 16,
   "id": "294e00d0-224c-44ad-84ad-e7e8cd33d4f2",
   "metadata": {},
   "outputs": [
    {
     "name": "stdout",
     "output_type": "stream",
     "text": [
      "dict1\n",
      "dict2\n"
     ]
    }
   ],
   "source": [
    "d = {'dict1': {'foo': 1, 'bar': 2}, 'dict2': {'baz': 3, 'quux': 4}}\n",
    "\n",
    "for key in d:\n",
    "    print(key)"
   ]
  },
  {
   "cell_type": "code",
   "execution_count": null,
   "id": "59227705-3c48-43f5-8c42-0de086051820",
   "metadata": {},
   "outputs": [],
   "source": [
    "for key in people:\n",
    "    for k, v in people[key].items():\n",
    "        print(v)"
   ]
  }
 ],
 "metadata": {
  "kernelspec": {
   "display_name": "Python 3 (ipykernel)",
   "language": "python",
   "name": "python3"
  },
  "language_info": {
   "codemirror_mode": {
    "name": "ipython",
    "version": 3
   },
   "file_extension": ".py",
   "mimetype": "text/x-python",
   "name": "python",
   "nbconvert_exporter": "python",
   "pygments_lexer": "ipython3",
   "version": "3.10.2"
  }
 },
 "nbformat": 4,
 "nbformat_minor": 5
}
